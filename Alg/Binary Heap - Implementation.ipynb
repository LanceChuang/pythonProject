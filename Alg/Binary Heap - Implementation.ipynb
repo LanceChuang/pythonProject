{
 "cells": [
  {
   "cell_type": "markdown",
   "metadata": {},
   "source": [
    "# Binary Heap Implementation"
   ]
  },
  {
   "cell_type": "markdown",
   "metadata": {},
   "source": [
    "## Binary Heap Operations"
   ]
  },
  {
   "cell_type": "markdown",
   "metadata": {},
   "source": [
    "### The basic operations we will implement for our binary heap are as follows:\n",
    "    BinaryHeap() creates a new, empty, binary heap.\n",
    "    insert(k) adds a new item to the heap.\n",
    "    findMin() returns the item with the minimum key value, leaving item in the heap.\n",
    "    delMin() returns the item with the minimum key value, removing the item from the heap.\n",
    "    isEmpty() returns true if the heap is empty, false otherwise.\n",
    "    size() returns the number of items in the heap.\n",
    "    buildHeap(list) builds a new heap from a list of keys."
   ]
  },
  {
   "cell_type": "code",
   "execution_count": 33,
   "metadata": {
    "collapsed": true
   },
   "outputs": [],
   "source": [
    "class MinHeap(object): # Min Heap \n",
    "    def __init__(self):\n",
    "        self.heapList = [0]\n",
    "        self.currentSize = 0 # track heap size\n",
    "    \n",
    "    def percUp(self,i):\n",
    "        while i // 2 > 0:\n",
    "            if self.heapList[i] < self.heapList[i//2]:\n",
    "                tmp = self.heapList[i//2]\n",
    "                self.heapList[i//2] = self.heapList[i]\n",
    "                self.heapList[i] = tmp\n",
    "            i = i // 2\n",
    "    \n",
    "    def insert(self,k):\n",
    "        self.heapList.append(k)\n",
    "        self.currentSize += 1\n",
    "        self.percUp(self.currentSize) # percolate the insert element\n",
    "    \n",
    "    def minChild(self,i):\n",
    "        if i * 2 + 1 > self.currentSize: # no right node child in heap\n",
    "            return i * 2\n",
    "        else:\n",
    "            if self.heapList[i*2] > self.heapList[i*2+1]:\n",
    "                return i * 2 + 1\n",
    "            else:\n",
    "                return i * 2\n",
    "    \n",
    "    def percDown(self,i):\n",
    "        while(i*2) <= self.currentSize: # left child in heap\n",
    "            mc = self.minChild(i) # result of child index\n",
    "#             print(\"current index is \",i)\n",
    "#             print(\"child index is\",mc)\n",
    "            if self.heapList[i] > self.heapList[mc]:\n",
    "                tmp = self.heapList[mc]\n",
    "                self.heapList[mc] = self.heapList[i]\n",
    "                self.heapList[i] = tmp\n",
    "            i = mc # keep percDown \n",
    "    \n",
    "    def delMin(self):\n",
    "        root = self.heapList[1]\n",
    "        self.heapList[1] = self.heapList[self.currentSize] # assign final to root\n",
    "        self.currentSize -= 1\n",
    "        self.heapList.pop()\n",
    "        self.percDown(1)\n",
    "        return root\n",
    "    \n",
    "    def Heapify(self,arr): # O(n)\n",
    "        self.currentSize = len(arr)\n",
    "        self.heapList = [0] + arr[:]\n",
    "        i = len(arr) // 2\n",
    "        while(i > 0):\n",
    "            self.percDown(i)\n",
    "            i -= 1\n",
    "        return self.heapList[1:] # ignore the initial 0"
   ]
  },
  {
   "cell_type": "code",
   "execution_count": 34,
   "metadata": {
    "collapsed": false
   },
   "outputs": [
    {
     "data": {
      "text/plain": [
       "[1, 3, 2, 6, 4, 8, 5, 7, 9]"
      ]
     },
     "execution_count": 34,
     "metadata": {},
     "output_type": "execute_result"
    }
   ],
   "source": [
    "data = [8,3,1,7,4,2,5,6,9]\n",
    "# data =[1,2,3,4,5]\n",
    "heap = MinHeap()\n",
    "heap.Heapify(data)"
   ]
  },
  {
   "cell_type": "code",
   "execution_count": 35,
   "metadata": {
    "collapsed": false
   },
   "outputs": [
    {
     "data": {
      "text/plain": [
       "1"
      ]
     },
     "execution_count": 35,
     "metadata": {},
     "output_type": "execute_result"
    }
   ],
   "source": [
    "Heap = MinHeap()\n",
    "Heap.insert(8)\n",
    "Heap.insert(3)\n",
    "Heap.insert(1)\n",
    "Heap.insert(7)\n",
    "Heap.insert(4)\n",
    "Heap.insert(2)\n",
    "Heap.insert(5)\n",
    "Heap.insert(6)\n",
    "Heap.insert(9)\n",
    "Heap.delMin()"
   ]
  },
  {
   "cell_type": "code",
   "execution_count": 36,
   "metadata": {
    "collapsed": false
   },
   "outputs": [
    {
     "data": {
      "text/plain": [
       "[0, 2, 4, 3, 6, 7, 9, 5, 8]"
      ]
     },
     "execution_count": 36,
     "metadata": {},
     "output_type": "execute_result"
    }
   ],
   "source": [
    "Heap.heapList"
   ]
  },
  {
   "cell_type": "code",
   "execution_count": null,
   "metadata": {
    "collapsed": true
   },
   "outputs": [],
   "source": []
  }
 ],
 "metadata": {
  "kernelspec": {
   "display_name": "Python 3",
   "language": "python",
   "name": "python3"
  },
  "language_info": {
   "codemirror_mode": {
    "name": "ipython",
    "version": 3
   },
   "file_extension": ".py",
   "mimetype": "text/x-python",
   "name": "python",
   "nbconvert_exporter": "python",
   "pygments_lexer": "ipython3",
   "version": "3.6.0"
  }
 },
 "nbformat": 4,
 "nbformat_minor": 2
}
